{
 "cells": [
  {
   "cell_type": "code",
   "execution_count": 1,
   "metadata": {
    "collapsed": false
   },
   "outputs": [],
   "source": [
    "import pandas as pd\n",
    "import numpy as np\n",
    "import matplotlib.pyplot as plt\n",
    "from time import time\n",
    "\n",
    "from sklearn.model_selection import train_test_split\n",
    "from sklearn.model_selection import GridSearchCV\n",
    "from sklearn.svm import LinearSVC\n",
    "from sklearn.svm import SVC"
   ]
  },
  {
   "cell_type": "code",
   "execution_count": 2,
   "metadata": {
    "collapsed": false
   },
   "outputs": [],
   "source": [
    "label = pd.read_csv(\"train/label_train.csv\")\n",
    "sift_feature = pd.read_csv(\"train/SIFT_train.csv\", header = None)\n",
    "rgb_feature = pd.read_csv(\"rgb_feature.csv\")\n",
    "gist_feature= pd.read_csv(\"gist_feature.csv\", header = None)"
   ]
  },
  {
   "cell_type": "markdown",
   "metadata": {},
   "source": [
    "# sift + linear svm"
   ]
  },
  {
   "cell_type": "code",
   "execution_count": 3,
   "metadata": {
    "collapsed": false
   },
   "outputs": [
    {
     "name": "stdout",
     "output_type": "stream",
     "text": [
      "(3000,)\n",
      "(3000, 2000)\n"
     ]
    }
   ],
   "source": [
    "y = label[[2]]\n",
    "y = np.array(y).reshape(y.shape[0],)\n",
    "print(y.shape)\n",
    "\n",
    "X_sift = sift_feature.drop([0], axis=1)\n",
    "print(X_sift.shape)\n",
    "X_sift_train, X_sift_test, y_train, y_test = train_test_split(X_sift, y, random_state=0, stratify=y)"
   ]
  },
  {
   "cell_type": "code",
   "execution_count": 88,
   "metadata": {
    "collapsed": false
   },
   "outputs": [
    {
     "data": {
      "text/plain": [
       "GridSearchCV(cv=3, error_score='raise',\n",
       "       estimator=LinearSVC(C=1.0, class_weight=None, dual=True, fit_intercept=True,\n",
       "     intercept_scaling=1, loss='squared_hinge', max_iter=1000,\n",
       "     multi_class='ovr', penalty='l2', random_state=None, tol=0.0001,\n",
       "     verbose=0),\n",
       "       fit_params={}, iid=True, n_jobs=1,\n",
       "       param_grid={'C': array([  1.00000e-02,   1.00000e-01,   1.00000e+00,   1.00000e+01,\n",
       "         1.00000e+02])},\n",
       "       pre_dispatch='2*n_jobs', refit=True, return_train_score=True,\n",
       "       scoring=None, verbose=0)"
      ]
     },
     "execution_count": 88,
     "metadata": {},
     "output_type": "execute_result"
    }
   ],
   "source": [
    "param_grid1 = {'C': np.logspace(-2, 2, 5)}\n",
    "grid1 = GridSearchCV(LinearSVC(), param_grid=param_grid1, cv=3)\n",
    "grid1.fit(X_sift_train, y_train)"
   ]
  },
  {
   "cell_type": "code",
   "execution_count": 89,
   "metadata": {
    "collapsed": false
   },
   "outputs": [
    {
     "name": "stdout",
     "output_type": "stream",
     "text": [
      "best parameters: {'C': 100.0}\n",
      "best mean cross-validation score: 0.724\n"
     ]
    }
   ],
   "source": [
    "print(\"best parameters: {}\".format(grid1.best_params_))\n",
    "print(\"best mean cross-validation score: {:.3f}\".format(grid1.best_score_))"
   ]
  },
  {
   "cell_type": "code",
   "execution_count": 90,
   "metadata": {
    "collapsed": false
   },
   "outputs": [
    {
     "name": "stdout",
     "output_type": "stream",
     "text": [
      "running time: 4.783\n",
      "test score: 0.715\n"
     ]
    }
   ],
   "source": [
    "tick = time()\n",
    "siftsvm = LinearSVC(C=100).fit(X_sift_train,y_train)\n",
    "print(\"running time: {:.3f}\".format(time() - tick))\n",
    "print(\"test score: {:.3f}\".format(siftsvm.score(X_sift_test, y_test)))"
   ]
  },
  {
   "cell_type": "code",
   "execution_count": 91,
   "metadata": {
    "collapsed": false
   },
   "outputs": [
    {
     "data": {
      "text/html": [
       "<div>\n",
       "<table border=\"1\" class=\"dataframe\">\n",
       "  <thead>\n",
       "    <tr style=\"text-align: right;\">\n",
       "      <th></th>\n",
       "      <th>mean_fit_time</th>\n",
       "      <th>mean_score_time</th>\n",
       "      <th>mean_test_score</th>\n",
       "      <th>mean_train_score</th>\n",
       "      <th>param_C</th>\n",
       "      <th>params</th>\n",
       "      <th>rank_test_score</th>\n",
       "      <th>split0_test_score</th>\n",
       "      <th>split0_train_score</th>\n",
       "      <th>split1_test_score</th>\n",
       "      <th>split1_train_score</th>\n",
       "      <th>split2_test_score</th>\n",
       "      <th>split2_train_score</th>\n",
       "      <th>std_fit_time</th>\n",
       "      <th>std_score_time</th>\n",
       "      <th>std_test_score</th>\n",
       "      <th>std_train_score</th>\n",
       "    </tr>\n",
       "  </thead>\n",
       "  <tbody>\n",
       "    <tr>\n",
       "      <th>0</th>\n",
       "      <td>0.072965</td>\n",
       "      <td>0.003724</td>\n",
       "      <td>0.608889</td>\n",
       "      <td>0.681778</td>\n",
       "      <td>0.01</td>\n",
       "      <td>{'C': 0.01}</td>\n",
       "      <td>5</td>\n",
       "      <td>0.597333</td>\n",
       "      <td>0.678667</td>\n",
       "      <td>0.629333</td>\n",
       "      <td>0.686667</td>\n",
       "      <td>0.600000</td>\n",
       "      <td>0.680000</td>\n",
       "      <td>0.011349</td>\n",
       "      <td>0.000489</td>\n",
       "      <td>0.014497</td>\n",
       "      <td>0.003500</td>\n",
       "    </tr>\n",
       "    <tr>\n",
       "      <th>1</th>\n",
       "      <td>0.071089</td>\n",
       "      <td>0.003432</td>\n",
       "      <td>0.612889</td>\n",
       "      <td>0.686889</td>\n",
       "      <td>0.1</td>\n",
       "      <td>{'C': 0.1}</td>\n",
       "      <td>4</td>\n",
       "      <td>0.600000</td>\n",
       "      <td>0.682000</td>\n",
       "      <td>0.630667</td>\n",
       "      <td>0.690667</td>\n",
       "      <td>0.608000</td>\n",
       "      <td>0.688000</td>\n",
       "      <td>0.001248</td>\n",
       "      <td>0.000448</td>\n",
       "      <td>0.012988</td>\n",
       "      <td>0.003624</td>\n",
       "    </tr>\n",
       "    <tr>\n",
       "      <th>2</th>\n",
       "      <td>0.148705</td>\n",
       "      <td>0.003464</td>\n",
       "      <td>0.637778</td>\n",
       "      <td>0.725333</td>\n",
       "      <td>1</td>\n",
       "      <td>{'C': 1.0}</td>\n",
       "      <td>3</td>\n",
       "      <td>0.634667</td>\n",
       "      <td>0.719333</td>\n",
       "      <td>0.641333</td>\n",
       "      <td>0.732000</td>\n",
       "      <td>0.637333</td>\n",
       "      <td>0.724667</td>\n",
       "      <td>0.007888</td>\n",
       "      <td>0.000362</td>\n",
       "      <td>0.002740</td>\n",
       "      <td>0.005193</td>\n",
       "    </tr>\n",
       "    <tr>\n",
       "      <th>3</th>\n",
       "      <td>0.773785</td>\n",
       "      <td>0.003312</td>\n",
       "      <td>0.696889</td>\n",
       "      <td>0.859333</td>\n",
       "      <td>10</td>\n",
       "      <td>{'C': 10.0}</td>\n",
       "      <td>2</td>\n",
       "      <td>0.676000</td>\n",
       "      <td>0.859333</td>\n",
       "      <td>0.720000</td>\n",
       "      <td>0.857333</td>\n",
       "      <td>0.694667</td>\n",
       "      <td>0.861333</td>\n",
       "      <td>0.086874</td>\n",
       "      <td>0.000255</td>\n",
       "      <td>0.018032</td>\n",
       "      <td>0.001633</td>\n",
       "    </tr>\n",
       "    <tr>\n",
       "      <th>4</th>\n",
       "      <td>2.804458</td>\n",
       "      <td>0.003649</td>\n",
       "      <td>0.724000</td>\n",
       "      <td>0.978444</td>\n",
       "      <td>100</td>\n",
       "      <td>{'C': 100.0}</td>\n",
       "      <td>1</td>\n",
       "      <td>0.716000</td>\n",
       "      <td>0.978667</td>\n",
       "      <td>0.729333</td>\n",
       "      <td>0.977333</td>\n",
       "      <td>0.726667</td>\n",
       "      <td>0.979333</td>\n",
       "      <td>0.064650</td>\n",
       "      <td>0.000469</td>\n",
       "      <td>0.005761</td>\n",
       "      <td>0.000831</td>\n",
       "    </tr>\n",
       "  </tbody>\n",
       "</table>\n",
       "</div>"
      ],
      "text/plain": [
       "   mean_fit_time  mean_score_time  mean_test_score  mean_train_score param_C  \\\n",
       "0       0.072965         0.003724         0.608889          0.681778    0.01   \n",
       "1       0.071089         0.003432         0.612889          0.686889     0.1   \n",
       "2       0.148705         0.003464         0.637778          0.725333       1   \n",
       "3       0.773785         0.003312         0.696889          0.859333      10   \n",
       "4       2.804458         0.003649         0.724000          0.978444     100   \n",
       "\n",
       "         params  rank_test_score  split0_test_score  split0_train_score  \\\n",
       "0   {'C': 0.01}                5           0.597333            0.678667   \n",
       "1    {'C': 0.1}                4           0.600000            0.682000   \n",
       "2    {'C': 1.0}                3           0.634667            0.719333   \n",
       "3   {'C': 10.0}                2           0.676000            0.859333   \n",
       "4  {'C': 100.0}                1           0.716000            0.978667   \n",
       "\n",
       "   split1_test_score  split1_train_score  split2_test_score  \\\n",
       "0           0.629333            0.686667           0.600000   \n",
       "1           0.630667            0.690667           0.608000   \n",
       "2           0.641333            0.732000           0.637333   \n",
       "3           0.720000            0.857333           0.694667   \n",
       "4           0.729333            0.977333           0.726667   \n",
       "\n",
       "   split2_train_score  std_fit_time  std_score_time  std_test_score  \\\n",
       "0            0.680000      0.011349        0.000489        0.014497   \n",
       "1            0.688000      0.001248        0.000448        0.012988   \n",
       "2            0.724667      0.007888        0.000362        0.002740   \n",
       "3            0.861333      0.086874        0.000255        0.018032   \n",
       "4            0.979333      0.064650        0.000469        0.005761   \n",
       "\n",
       "   std_train_score  \n",
       "0         0.003500  \n",
       "1         0.003624  \n",
       "2         0.005193  \n",
       "3         0.001633  \n",
       "4         0.000831  "
      ]
     },
     "execution_count": 91,
     "metadata": {},
     "output_type": "execute_result"
    }
   ],
   "source": [
    "res1 = pd.DataFrame(grid1.cv_results_)\n",
    "res1.head()"
   ]
  },
  {
   "cell_type": "code",
   "execution_count": 92,
   "metadata": {
    "collapsed": false
   },
   "outputs": [
    {
     "data": {
      "image/png": "[encoded data removed]",
      "text/plain": [
       "<matplotlib.figure.Figure at 0x105f86e10>"
      ]
     },
     "metadata": {},
     "output_type": "display_data"
    }
   ],
   "source": [
    "res1.plot('param_C', 'mean_train_score')\n",
    "res1.plot('param_C', 'mean_test_score', ax=plt.gca())\n",
    "plt.xscale('log')\n",
    "plt.legend()\n",
    "plt.show()"
   ]
  },
  {
   "cell_type": "markdown",
   "metadata": {},
   "source": [
    "# sift + non-linear svm (rbf)"
   ]
  },
  {
   "cell_type": "code",
   "execution_count": null,
   "metadata": {
    "collapsed": false
   },
   "outputs": [],
   "source": [
    "param_grid2 = {'C': np.logspace(-2, 2, 5),\n",
    "              'gamma': np.logspace(-2, 2, 5)}\n",
    "grid2 = GridSearchCV(SVC(), param_grid=param_grid2, cv=3)\n",
    "grid2.fit(X_sift_train, y_train)"
   ]
  },
  {
   "cell_type": "code",
   "execution_count": 93,
   "metadata": {
    "collapsed": false
   },
   "outputs": [
    {
     "name": "stdout",
     "output_type": "stream",
     "text": [
      "best parameters: {'gamma': 100.0, 'C': 10.0}\n",
      "best mean cross-validation score: 0.756\n"
     ]
    }
   ],
   "source": [
    "print(\"best parameters: {}\".format(grid2.best_params_))\n",
    "print(\"best mean cross-validation score: {:.3f}\".format(grid2.best_score_))"
   ]
  },
  {
   "cell_type": "code",
   "execution_count": 94,
   "metadata": {
    "collapsed": false
   },
   "outputs": [
    {
     "name": "stdout",
     "output_type": "stream",
     "text": [
      "running time: 14.903\n",
      "test score: 0.772\n"
     ]
    }
   ],
   "source": [
    "tick = time()\n",
    "siftsvmrbf = SVC(C=10, gamma=100).fit(X_sift_train,y_train)\n",
    "print(\"running time: {:.3f}\".format(time() - tick))\n",
    "print(\"test score: {:.3f}\".format(siftsvmrbf.score(X_sift_test, y_test)))"
   ]
  },
  {
   "cell_type": "code",
   "execution_count": 95,
   "metadata": {
    "collapsed": false
   },
   "outputs": [
    {
     "data": {
      "text/html": [
       "<div>\n",
       "<table border=\"1\" class=\"dataframe\">\n",
       "  <thead>\n",
       "    <tr style=\"text-align: right;\">\n",
       "      <th></th>\n",
       "      <th>mean_fit_time</th>\n",
       "      <th>mean_score_time</th>\n",
       "      <th>mean_test_score</th>\n",
       "      <th>mean_train_score</th>\n",
       "      <th>param_C</th>\n",
       "      <th>param_gamma</th>\n",
       "      <th>params</th>\n",
       "      <th>rank_test_score</th>\n",
       "      <th>split0_test_score</th>\n",
       "      <th>split0_train_score</th>\n",
       "      <th>split1_test_score</th>\n",
       "      <th>split1_train_score</th>\n",
       "      <th>split2_test_score</th>\n",
       "      <th>split2_train_score</th>\n",
       "      <th>std_fit_time</th>\n",
       "      <th>std_score_time</th>\n",
       "      <th>std_test_score</th>\n",
       "      <th>std_train_score</th>\n",
       "    </tr>\n",
       "  </thead>\n",
       "  <tbody>\n",
       "    <tr>\n",
       "      <th>0</th>\n",
       "      <td>6.640956</td>\n",
       "      <td>2.326617</td>\n",
       "      <td>0.379111</td>\n",
       "      <td>0.394889</td>\n",
       "      <td>0.01</td>\n",
       "      <td>0.01</td>\n",
       "      <td>{'gamma': 0.01, 'C': 0.01}</td>\n",
       "      <td>21</td>\n",
       "      <td>0.408000</td>\n",
       "      <td>0.415333</td>\n",
       "      <td>0.381333</td>\n",
       "      <td>0.405333</td>\n",
       "      <td>0.348000</td>\n",
       "      <td>0.364000</td>\n",
       "      <td>0.315549</td>\n",
       "      <td>0.105508</td>\n",
       "      <td>0.024545</td>\n",
       "      <td>0.022220</td>\n",
       "    </tr>\n",
       "    <tr>\n",
       "      <th>1</th>\n",
       "      <td>6.231321</td>\n",
       "      <td>2.269120</td>\n",
       "      <td>0.384889</td>\n",
       "      <td>0.401333</td>\n",
       "      <td>0.01</td>\n",
       "      <td>0.1</td>\n",
       "      <td>{'gamma': 0.1, 'C': 0.01}</td>\n",
       "      <td>18</td>\n",
       "      <td>0.417333</td>\n",
       "      <td>0.430667</td>\n",
       "      <td>0.390667</td>\n",
       "      <td>0.409333</td>\n",
       "      <td>0.346667</td>\n",
       "      <td>0.364000</td>\n",
       "      <td>0.095364</td>\n",
       "      <td>0.028778</td>\n",
       "      <td>0.029137</td>\n",
       "      <td>0.027798</td>\n",
       "    </tr>\n",
       "    <tr>\n",
       "      <th>2</th>\n",
       "      <td>6.428480</td>\n",
       "      <td>2.393677</td>\n",
       "      <td>0.426222</td>\n",
       "      <td>0.436000</td>\n",
       "      <td>0.01</td>\n",
       "      <td>1</td>\n",
       "      <td>{'gamma': 1.0, 'C': 0.01}</td>\n",
       "      <td>13</td>\n",
       "      <td>0.457333</td>\n",
       "      <td>0.454667</td>\n",
       "      <td>0.464000</td>\n",
       "      <td>0.477333</td>\n",
       "      <td>0.357333</td>\n",
       "      <td>0.376000</td>\n",
       "      <td>0.180167</td>\n",
       "      <td>0.118784</td>\n",
       "      <td>0.048788</td>\n",
       "      <td>0.043424</td>\n",
       "    </tr>\n",
       "    <tr>\n",
       "      <th>3</th>\n",
       "      <td>6.933342</td>\n",
       "      <td>2.350589</td>\n",
       "      <td>0.393333</td>\n",
       "      <td>0.418000</td>\n",
       "      <td>0.01</td>\n",
       "      <td>10</td>\n",
       "      <td>{'gamma': 10.0, 'C': 0.01}</td>\n",
       "      <td>16</td>\n",
       "      <td>0.425333</td>\n",
       "      <td>0.452000</td>\n",
       "      <td>0.369333</td>\n",
       "      <td>0.383333</td>\n",
       "      <td>0.385333</td>\n",
       "      <td>0.418667</td>\n",
       "      <td>0.363005</td>\n",
       "      <td>0.061245</td>\n",
       "      <td>0.023551</td>\n",
       "      <td>0.028037</td>\n",
       "    </tr>\n",
       "    <tr>\n",
       "      <th>4</th>\n",
       "      <td>6.621438</td>\n",
       "      <td>2.436394</td>\n",
       "      <td>0.516000</td>\n",
       "      <td>0.539111</td>\n",
       "      <td>0.01</td>\n",
       "      <td>100</td>\n",
       "      <td>{'gamma': 100.0, 'C': 0.01}</td>\n",
       "      <td>11</td>\n",
       "      <td>0.524000</td>\n",
       "      <td>0.542667</td>\n",
       "      <td>0.510667</td>\n",
       "      <td>0.526000</td>\n",
       "      <td>0.513333</td>\n",
       "      <td>0.548667</td>\n",
       "      <td>0.472853</td>\n",
       "      <td>0.211555</td>\n",
       "      <td>0.005761</td>\n",
       "      <td>0.009589</td>\n",
       "    </tr>\n",
       "  </tbody>\n",
       "</table>\n",
       "</div>"
      ],
      "text/plain": [
       "   mean_fit_time  mean_score_time  mean_test_score  mean_train_score param_C  \\\n",
       "0       6.640956         2.326617         0.379111          0.394889    0.01   \n",
       "1       6.231321         2.269120         0.384889          0.401333    0.01   \n",
       "2       6.428480         2.393677         0.426222          0.436000    0.01   \n",
       "3       6.933342         2.350589         0.393333          0.418000    0.01   \n",
       "4       6.621438         2.436394         0.516000          0.539111    0.01   \n",
       "\n",
       "  param_gamma                       params  rank_test_score  \\\n",
       "0        0.01   {'gamma': 0.01, 'C': 0.01}               21   \n",
       "1         0.1    {'gamma': 0.1, 'C': 0.01}               18   \n",
       "2           1    {'gamma': 1.0, 'C': 0.01}               13   \n",
       "3          10   {'gamma': 10.0, 'C': 0.01}               16   \n",
       "4         100  {'gamma': 100.0, 'C': 0.01}               11   \n",
       "\n",
       "   split0_test_score  split0_train_score  split1_test_score  \\\n",
       "0           0.408000            0.415333           0.381333   \n",
       "1           0.417333            0.430667           0.390667   \n",
       "2           0.457333            0.454667           0.464000   \n",
       "3           0.425333            0.452000           0.369333   \n",
       "4           0.524000            0.542667           0.510667   \n",
       "\n",
       "   split1_train_score  split2_test_score  split2_train_score  std_fit_time  \\\n",
       "0            0.405333           0.348000            0.364000      0.315549   \n",
       "1            0.409333           0.346667            0.364000      0.095364   \n",
       "2            0.477333           0.357333            0.376000      0.180167   \n",
       "3            0.383333           0.385333            0.418667      0.363005   \n",
       "4            0.526000           0.513333            0.548667      0.472853   \n",
       "\n",
       "   std_score_time  std_test_score  std_train_score  \n",
       "0        0.105508        0.024545         0.022220  \n",
       "1        0.028778        0.029137         0.027798  \n",
       "2        0.118784        0.048788         0.043424  \n",
       "3        0.061245        0.023551         0.028037  \n",
       "4        0.211555        0.005761         0.009589  "
      ]
     },
     "execution_count": 95,
     "metadata": {},
     "output_type": "execute_result"
    }
   ],
   "source": [
    "res2 = pd.DataFrame(grid2.cv_results_)\n",
    "res2.head()"
   ]
  },
  {
   "cell_type": "code",
   "execution_count": 108,
   "metadata": {
    "collapsed": false
   },
   "outputs": [
    {
     "data": {
      "image/png": "[encoded data removed]",
      "text/plain": [
       "<matplotlib.figure.Figure at 0x1371374e0>"
      ]
     },
     "metadata": {},
     "output_type": "display_data"
    }
   ],
   "source": [
    "plt.title(\"accuracy\")\n",
    "plt.imshow(res2.mean_test_score.values.reshape(5, 5), cmap=plt.cm.Blues)\n",
    "plt.yticks(range(len(param_grid2['C'])), param_grid2['C'])\n",
    "plt.ylabel(\"C\")\n",
    "plt.xticks(range(len(param_grid2['gamma'])), param_grid2['gamma'])\n",
    "plt.xlabel(\"gamma\")\n",
    "plt.colorbar()\n",
    "plt.show()"
   ]
  },
  {
   "cell_type": "markdown",
   "metadata": {},
   "source": [
    "# rgb + linear svm"
   ]
  },
  {
   "cell_type": "code",
   "execution_count": 109,
   "metadata": {
    "collapsed": false
   },
   "outputs": [
    {
     "name": "stdout",
     "output_type": "stream",
     "text": [
      "(3000, 1440)\n"
     ]
    }
   ],
   "source": [
    "X_rgb = rgb_feature.drop(['Unnamed: 0'], axis=1)\n",
    "print(X_rgb.shape)\n",
    "X_rgb_train, X_rgb_test, y_train, y_test = train_test_split(X_rgb, y, random_state=0, stratify=y)"
   ]
  },
  {
   "cell_type": "code",
   "execution_count": 110,
   "metadata": {
    "collapsed": false
   },
   "outputs": [
    {
     "data": {
      "text/plain": [
       "GridSearchCV(cv=3, error_score='raise',\n",
       "       estimator=LinearSVC(C=1.0, class_weight=None, dual=True, fit_intercept=True,\n",
       "     intercept_scaling=1, loss='squared_hinge', max_iter=1000,\n",
       "     multi_class='ovr', penalty='l2', random_state=None, tol=0.0001,\n",
       "     verbose=0),\n",
       "       fit_params={}, iid=True, n_jobs=1,\n",
       "       param_grid={'C': array([  1.00000e-02,   1.00000e-01,   1.00000e+00,   1.00000e+01,\n",
       "         1.00000e+02])},\n",
       "       pre_dispatch='2*n_jobs', refit=True, return_train_score=True,\n",
       "       scoring=None, verbose=0)"
      ]
     },
     "execution_count": 110,
     "metadata": {},
     "output_type": "execute_result"
    }
   ],
   "source": [
    "param_grid3 = {'C': np.logspace(-2, 2, 5)}\n",
    "grid3 = GridSearchCV(LinearSVC(), param_grid=param_grid3, cv=3)\n",
    "grid3.fit(X_rgb_train, y_train)"
   ]
  },
  {
   "cell_type": "code",
   "execution_count": 111,
   "metadata": {
    "collapsed": false
   },
   "outputs": [
    {
     "name": "stdout",
     "output_type": "stream",
     "text": [
      "best parameters: {'C': 100.0}\n",
      "best mean cross-validation score: 0.725\n"
     ]
    }
   ],
   "source": [
    "print(\"best parameters: {}\".format(grid3.best_params_))\n",
    "print(\"best mean cross-validation score: {:.3f}\".format(grid3.best_score_))"
   ]
  },
  {
   "cell_type": "code",
   "execution_count": 112,
   "metadata": {
    "collapsed": false
   },
   "outputs": [
    {
     "name": "stdout",
     "output_type": "stream",
     "text": [
      "running time: 4.242\n",
      "test score: 0.717\n"
     ]
    }
   ],
   "source": [
    "tick = time()\n",
    "rgbsvm = LinearSVC(C=100).fit(X_rgb_train,y_train)\n",
    "print(\"running time: {:.3f}\".format(time() - tick))\n",
    "print(\"test score: {:.3f}\".format(rgbsvm.score(X_rgb_test, y_test)))"
   ]
  },
  {
   "cell_type": "code",
   "execution_count": 113,
   "metadata": {
    "collapsed": false
   },
   "outputs": [
    {
     "data": {
      "text/html": [
       "<div>\n",
       "<table border=\"1\" class=\"dataframe\">\n",
       "  <thead>\n",
       "    <tr style=\"text-align: right;\">\n",
       "      <th></th>\n",
       "      <th>mean_fit_time</th>\n",
       "      <th>mean_score_time</th>\n",
       "      <th>mean_test_score</th>\n",
       "      <th>mean_train_score</th>\n",
       "      <th>param_C</th>\n",
       "      <th>params</th>\n",
       "      <th>rank_test_score</th>\n",
       "      <th>split0_test_score</th>\n",
       "      <th>split0_train_score</th>\n",
       "      <th>split1_test_score</th>\n",
       "      <th>split1_train_score</th>\n",
       "      <th>split2_test_score</th>\n",
       "      <th>split2_train_score</th>\n",
       "      <th>std_fit_time</th>\n",
       "      <th>std_score_time</th>\n",
       "      <th>std_test_score</th>\n",
       "      <th>std_train_score</th>\n",
       "    </tr>\n",
       "  </thead>\n",
       "  <tbody>\n",
       "    <tr>\n",
       "      <th>0</th>\n",
       "      <td>0.089676</td>\n",
       "      <td>0.006400</td>\n",
       "      <td>0.554667</td>\n",
       "      <td>0.565778</td>\n",
       "      <td>0.01</td>\n",
       "      <td>{'C': 0.01}</td>\n",
       "      <td>5</td>\n",
       "      <td>0.572000</td>\n",
       "      <td>0.568667</td>\n",
       "      <td>0.542667</td>\n",
       "      <td>0.559333</td>\n",
       "      <td>0.549333</td>\n",
       "      <td>0.569333</td>\n",
       "      <td>0.027449</td>\n",
       "      <td>0.000485</td>\n",
       "      <td>0.012555</td>\n",
       "      <td>0.004565</td>\n",
       "    </tr>\n",
       "    <tr>\n",
       "      <th>1</th>\n",
       "      <td>0.069955</td>\n",
       "      <td>0.006210</td>\n",
       "      <td>0.628000</td>\n",
       "      <td>0.641778</td>\n",
       "      <td>0.1</td>\n",
       "      <td>{'C': 0.1}</td>\n",
       "      <td>4</td>\n",
       "      <td>0.638667</td>\n",
       "      <td>0.642000</td>\n",
       "      <td>0.630667</td>\n",
       "      <td>0.632000</td>\n",
       "      <td>0.614667</td>\n",
       "      <td>0.651333</td>\n",
       "      <td>0.000779</td>\n",
       "      <td>0.000326</td>\n",
       "      <td>0.009978</td>\n",
       "      <td>0.007894</td>\n",
       "    </tr>\n",
       "    <tr>\n",
       "      <th>2</th>\n",
       "      <td>0.195013</td>\n",
       "      <td>0.008056</td>\n",
       "      <td>0.684444</td>\n",
       "      <td>0.708667</td>\n",
       "      <td>1</td>\n",
       "      <td>{'C': 1.0}</td>\n",
       "      <td>3</td>\n",
       "      <td>0.705333</td>\n",
       "      <td>0.692000</td>\n",
       "      <td>0.681333</td>\n",
       "      <td>0.718667</td>\n",
       "      <td>0.666667</td>\n",
       "      <td>0.715333</td>\n",
       "      <td>0.026798</td>\n",
       "      <td>0.001575</td>\n",
       "      <td>0.015938</td>\n",
       "      <td>0.011863</td>\n",
       "    </tr>\n",
       "    <tr>\n",
       "      <th>3</th>\n",
       "      <td>1.091909</td>\n",
       "      <td>0.006016</td>\n",
       "      <td>0.704444</td>\n",
       "      <td>0.764444</td>\n",
       "      <td>10</td>\n",
       "      <td>{'C': 10.0}</td>\n",
       "      <td>2</td>\n",
       "      <td>0.722667</td>\n",
       "      <td>0.751333</td>\n",
       "      <td>0.704000</td>\n",
       "      <td>0.769333</td>\n",
       "      <td>0.686667</td>\n",
       "      <td>0.772667</td>\n",
       "      <td>0.143481</td>\n",
       "      <td>0.000318</td>\n",
       "      <td>0.014700</td>\n",
       "      <td>0.009370</td>\n",
       "    </tr>\n",
       "    <tr>\n",
       "      <th>4</th>\n",
       "      <td>2.787729</td>\n",
       "      <td>0.006175</td>\n",
       "      <td>0.725333</td>\n",
       "      <td>0.823333</td>\n",
       "      <td>100</td>\n",
       "      <td>{'C': 100.0}</td>\n",
       "      <td>1</td>\n",
       "      <td>0.746667</td>\n",
       "      <td>0.820667</td>\n",
       "      <td>0.730667</td>\n",
       "      <td>0.820667</td>\n",
       "      <td>0.698667</td>\n",
       "      <td>0.828667</td>\n",
       "      <td>0.246919</td>\n",
       "      <td>0.000552</td>\n",
       "      <td>0.019956</td>\n",
       "      <td>0.003771</td>\n",
       "    </tr>\n",
       "  </tbody>\n",
       "</table>\n",
       "</div>"
      ],
      "text/plain": [
       "   mean_fit_time  mean_score_time  mean_test_score  mean_train_score param_C  \\\n",
       "0       0.089676         0.006400         0.554667          0.565778    0.01   \n",
       "1       0.069955         0.006210         0.628000          0.641778     0.1   \n",
       "2       0.195013         0.008056         0.684444          0.708667       1   \n",
       "3       1.091909         0.006016         0.704444          0.764444      10   \n",
       "4       2.787729         0.006175         0.725333          0.823333     100   \n",
       "\n",
       "         params  rank_test_score  split0_test_score  split0_train_score  \\\n",
       "0   {'C': 0.01}                5           0.572000            0.568667   \n",
       "1    {'C': 0.1}                4           0.638667            0.642000   \n",
       "2    {'C': 1.0}                3           0.705333            0.692000   \n",
       "3   {'C': 10.0}                2           0.722667            0.751333   \n",
       "4  {'C': 100.0}                1           0.746667            0.820667   \n",
       "\n",
       "   split1_test_score  split1_train_score  split2_test_score  \\\n",
       "0           0.542667            0.559333           0.549333   \n",
       "1           0.630667            0.632000           0.614667   \n",
       "2           0.681333            0.718667           0.666667   \n",
       "3           0.704000            0.769333           0.686667   \n",
       "4           0.730667            0.820667           0.698667   \n",
       "\n",
       "   split2_train_score  std_fit_time  std_score_time  std_test_score  \\\n",
       "0            0.569333      0.027449        0.000485        0.012555   \n",
       "1            0.651333      0.000779        0.000326        0.009978   \n",
       "2            0.715333      0.026798        0.001575        0.015938   \n",
       "3            0.772667      0.143481        0.000318        0.014700   \n",
       "4            0.828667      0.246919        0.000552        0.019956   \n",
       "\n",
       "   std_train_score  \n",
       "0         0.004565  \n",
       "1         0.007894  \n",
       "2         0.011863  \n",
       "3         0.009370  \n",
       "4         0.003771  "
      ]
     },
     "execution_count": 113,
     "metadata": {},
     "output_type": "execute_result"
    }
   ],
   "source": [
    "res3 = pd.DataFrame(grid3.cv_results_)\n",
    "res3.head()"
   ]
  },
  {
   "cell_type": "code",
   "execution_count": 114,
   "metadata": {
    "collapsed": false
   },
   "outputs": [
    {
     "data": {
      "image/png": "[encoded data removed]",
      "text/plain": [
       "<matplotlib.figure.Figure at 0x11878d1d0>"
      ]
     },
     "metadata": {},
     "output_type": "display_data"
    }
   ],
   "source": [
    "res3.plot('param_C', 'mean_train_score')\n",
    "res3.plot('param_C', 'mean_test_score', ax=plt.gca())\n",
    "plt.xscale('log')\n",
    "plt.legend()\n",
    "plt.show()"
   ]
  },
  {
   "cell_type": "markdown",
   "metadata": {},
   "source": [
    "# rgb + non-linear svm (rbf)"
   ]
  },
  {
   "cell_type": "code",
   "execution_count": null,
   "metadata": {
    "collapsed": false
   },
   "outputs": [],
   "source": [
    "param_grid4 = {'C': np.logspace(-2, 2, 5),\n",
    "              'gamma': np.logspace(-2, 2, 5)}\n",
    "grid4 = GridSearchCV(SVC(), param_grid=param_grid4, cv=3)\n",
    "grid4.fit(X_rgb_train, y_train)"
   ]
  },
  {
   "cell_type": "code",
   "execution_count": 115,
   "metadata": {
    "collapsed": false
   },
   "outputs": [
    {
     "name": "stdout",
     "output_type": "stream",
     "text": [
      "best parameters: {'gamma': 1.0, 'C': 100.0}\n",
      "best mean cross-validation score: 0.756\n"
     ]
    }
   ],
   "source": [
    "print(\"best parameters: {}\".format(grid4.best_params_))\n",
    "print(\"best mean cross-validation score: {:.3f}\".format(grid4.best_score_))"
   ]
  },
  {
   "cell_type": "code",
   "execution_count": 116,
   "metadata": {
    "collapsed": false
   },
   "outputs": [
    {
     "name": "stdout",
     "output_type": "stream",
     "text": [
      "running time: 4.995\n",
      "test score: 0.756\n"
     ]
    }
   ],
   "source": [
    "tick = time()\n",
    "rgbsvmrbf = SVC(C=100, gamma=1).fit(X_rgb_train,y_train)\n",
    "print(\"running time: {:.3f}\".format(time() - tick))\n",
    "print(\"test score: {:.3f}\".format(rgbsvmrbf.score(X_rgb_test, y_test)))"
   ]
  },
  {
   "cell_type": "code",
   "execution_count": 117,
   "metadata": {
    "collapsed": false
   },
   "outputs": [
    {
     "data": {
      "text/html": [
       "<div>\n",
       "<table border=\"1\" class=\"dataframe\">\n",
       "  <thead>\n",
       "    <tr style=\"text-align: right;\">\n",
       "      <th></th>\n",
       "      <th>mean_fit_time</th>\n",
       "      <th>mean_score_time</th>\n",
       "      <th>mean_test_score</th>\n",
       "      <th>mean_train_score</th>\n",
       "      <th>param_C</th>\n",
       "      <th>param_gamma</th>\n",
       "      <th>params</th>\n",
       "      <th>rank_test_score</th>\n",
       "      <th>split0_test_score</th>\n",
       "      <th>split0_train_score</th>\n",
       "      <th>split1_test_score</th>\n",
       "      <th>split1_train_score</th>\n",
       "      <th>split2_test_score</th>\n",
       "      <th>split2_train_score</th>\n",
       "      <th>std_fit_time</th>\n",
       "      <th>std_score_time</th>\n",
       "      <th>std_test_score</th>\n",
       "      <th>std_train_score</th>\n",
       "    </tr>\n",
       "  </thead>\n",
       "  <tbody>\n",
       "    <tr>\n",
       "      <th>0</th>\n",
       "      <td>5.028390</td>\n",
       "      <td>1.776738</td>\n",
       "      <td>0.425778</td>\n",
       "      <td>0.426222</td>\n",
       "      <td>0.01</td>\n",
       "      <td>0.01</td>\n",
       "      <td>{'gamma': 0.01, 'C': 0.01}</td>\n",
       "      <td>21</td>\n",
       "      <td>0.434667</td>\n",
       "      <td>0.428000</td>\n",
       "      <td>0.428000</td>\n",
       "      <td>0.434000</td>\n",
       "      <td>0.414667</td>\n",
       "      <td>0.416667</td>\n",
       "      <td>0.190930</td>\n",
       "      <td>0.125076</td>\n",
       "      <td>0.008315</td>\n",
       "      <td>0.007187</td>\n",
       "    </tr>\n",
       "    <tr>\n",
       "      <th>1</th>\n",
       "      <td>4.922726</td>\n",
       "      <td>1.764611</td>\n",
       "      <td>0.425778</td>\n",
       "      <td>0.426000</td>\n",
       "      <td>0.01</td>\n",
       "      <td>0.1</td>\n",
       "      <td>{'gamma': 0.1, 'C': 0.01}</td>\n",
       "      <td>21</td>\n",
       "      <td>0.432000</td>\n",
       "      <td>0.427333</td>\n",
       "      <td>0.429333</td>\n",
       "      <td>0.434000</td>\n",
       "      <td>0.416000</td>\n",
       "      <td>0.416667</td>\n",
       "      <td>0.109907</td>\n",
       "      <td>0.121377</td>\n",
       "      <td>0.006999</td>\n",
       "      <td>0.007139</td>\n",
       "    </tr>\n",
       "    <tr>\n",
       "      <th>2</th>\n",
       "      <td>5.303769</td>\n",
       "      <td>1.767397</td>\n",
       "      <td>0.429333</td>\n",
       "      <td>0.431333</td>\n",
       "      <td>0.01</td>\n",
       "      <td>1</td>\n",
       "      <td>{'gamma': 1.0, 'C': 0.01}</td>\n",
       "      <td>20</td>\n",
       "      <td>0.434667</td>\n",
       "      <td>0.427333</td>\n",
       "      <td>0.429333</td>\n",
       "      <td>0.436667</td>\n",
       "      <td>0.424000</td>\n",
       "      <td>0.430000</td>\n",
       "      <td>0.307108</td>\n",
       "      <td>0.011833</td>\n",
       "      <td>0.004355</td>\n",
       "      <td>0.003925</td>\n",
       "    </tr>\n",
       "    <tr>\n",
       "      <th>3</th>\n",
       "      <td>4.849829</td>\n",
       "      <td>1.808357</td>\n",
       "      <td>0.548444</td>\n",
       "      <td>0.550444</td>\n",
       "      <td>0.01</td>\n",
       "      <td>10</td>\n",
       "      <td>{'gamma': 10.0, 'C': 0.01}</td>\n",
       "      <td>15</td>\n",
       "      <td>0.561333</td>\n",
       "      <td>0.532667</td>\n",
       "      <td>0.541333</td>\n",
       "      <td>0.552667</td>\n",
       "      <td>0.542667</td>\n",
       "      <td>0.566000</td>\n",
       "      <td>0.280658</td>\n",
       "      <td>0.149976</td>\n",
       "      <td>0.009130</td>\n",
       "      <td>0.013699</td>\n",
       "    </tr>\n",
       "    <tr>\n",
       "      <th>4</th>\n",
       "      <td>4.726228</td>\n",
       "      <td>1.712716</td>\n",
       "      <td>0.491111</td>\n",
       "      <td>0.500444</td>\n",
       "      <td>0.01</td>\n",
       "      <td>100</td>\n",
       "      <td>{'gamma': 100.0, 'C': 0.01}</td>\n",
       "      <td>16</td>\n",
       "      <td>0.500000</td>\n",
       "      <td>0.508000</td>\n",
       "      <td>0.484000</td>\n",
       "      <td>0.487333</td>\n",
       "      <td>0.489333</td>\n",
       "      <td>0.506000</td>\n",
       "      <td>0.203181</td>\n",
       "      <td>0.134313</td>\n",
       "      <td>0.006652</td>\n",
       "      <td>0.009307</td>\n",
       "    </tr>\n",
       "  </tbody>\n",
       "</table>\n",
       "</div>"
      ],
      "text/plain": [
       "   mean_fit_time  mean_score_time  mean_test_score  mean_train_score param_C  \\\n",
       "0       5.028390         1.776738         0.425778          0.426222    0.01   \n",
       "1       4.922726         1.764611         0.425778          0.426000    0.01   \n",
       "2       5.303769         1.767397         0.429333          0.431333    0.01   \n",
       "3       4.849829         1.808357         0.548444          0.550444    0.01   \n",
       "4       4.726228         1.712716         0.491111          0.500444    0.01   \n",
       "\n",
       "  param_gamma                       params  rank_test_score  \\\n",
       "0        0.01   {'gamma': 0.01, 'C': 0.01}               21   \n",
       "1         0.1    {'gamma': 0.1, 'C': 0.01}               21   \n",
       "2           1    {'gamma': 1.0, 'C': 0.01}               20   \n",
       "3          10   {'gamma': 10.0, 'C': 0.01}               15   \n",
       "4         100  {'gamma': 100.0, 'C': 0.01}               16   \n",
       "\n",
       "   split0_test_score  split0_train_score  split1_test_score  \\\n",
       "0           0.434667            0.428000           0.428000   \n",
       "1           0.432000            0.427333           0.429333   \n",
       "2           0.434667            0.427333           0.429333   \n",
       "3           0.561333            0.532667           0.541333   \n",
       "4           0.500000            0.508000           0.484000   \n",
       "\n",
       "   split1_train_score  split2_test_score  split2_train_score  std_fit_time  \\\n",
       "0            0.434000           0.414667            0.416667      0.190930   \n",
       "1            0.434000           0.416000            0.416667      0.109907   \n",
       "2            0.436667           0.424000            0.430000      0.307108   \n",
       "3            0.552667           0.542667            0.566000      0.280658   \n",
       "4            0.487333           0.489333            0.506000      0.203181   \n",
       "\n",
       "   std_score_time  std_test_score  std_train_score  \n",
       "0        0.125076        0.008315         0.007187  \n",
       "1        0.121377        0.006999         0.007139  \n",
       "2        0.011833        0.004355         0.003925  \n",
       "3        0.149976        0.009130         0.013699  \n",
       "4        0.134313        0.006652         0.009307  "
      ]
     },
     "execution_count": 117,
     "metadata": {},
     "output_type": "execute_result"
    }
   ],
   "source": [
    "res4 = pd.DataFrame(grid4.cv_results_)\n",
    "res4.head()"
   ]
  },
  {
   "cell_type": "code",
   "execution_count": 118,
   "metadata": {
    "collapsed": false
   },
   "outputs": [
    {
     "data": {
      "image/png": "[encoded data removed]",
      "text/plain": [
       "<matplotlib.figure.Figure at 0x1370c1438>"
      ]
     },
     "metadata": {},
     "output_type": "display_data"
    }
   ],
   "source": [
    "plt.title(\"accuracy\")\n",
    "plt.imshow(res4.mean_test_score.values.reshape(5, 5), cmap=plt.cm.Blues)\n",
    "plt.yticks(range(len(param_grid4['C'])), param_grid4['C'])\n",
    "plt.ylabel(\"C\")\n",
    "plt.xticks(range(len(param_grid4['gamma'])), param_grid4['gamma'])\n",
    "plt.xlabel(\"gamma\")\n",
    "plt.colorbar()\n",
    "plt.show()"
   ]
  },
  {
   "cell_type": "markdown",
   "metadata": {},
   "source": [
    "# gist + linear svm"
   ]
  },
  {
   "cell_type": "code",
   "execution_count": 119,
   "metadata": {
    "collapsed": false
   },
   "outputs": [
    {
     "name": "stdout",
     "output_type": "stream",
     "text": [
      "(3000, 512)\n"
     ]
    }
   ],
   "source": [
    "X_gist = gist_feature\n",
    "print(X_gist.shape)\n",
    "X_gist_train, X_gist_test, y_train, y_test = train_test_split(X_gist, y, random_state=0, stratify=y)"
   ]
  },
  {
   "cell_type": "code",
   "execution_count": 120,
   "metadata": {
    "collapsed": false
   },
   "outputs": [
    {
     "data": {
      "text/plain": [
       "GridSearchCV(cv=3, error_score='raise',\n",
       "       estimator=LinearSVC(C=1.0, class_weight=None, dual=True, fit_intercept=True,\n",
       "     intercept_scaling=1, loss='squared_hinge', max_iter=1000,\n",
       "     multi_class='ovr', penalty='l2', random_state=None, tol=0.0001,\n",
       "     verbose=0),\n",
       "       fit_params={}, iid=True, n_jobs=1,\n",
       "       param_grid={'C': array([  1.00000e-02,   1.00000e-01,   1.00000e+00,   1.00000e+01,\n",
       "         1.00000e+02])},\n",
       "       pre_dispatch='2*n_jobs', refit=True, return_train_score=True,\n",
       "       scoring=None, verbose=0)"
      ]
     },
     "execution_count": 120,
     "metadata": {},
     "output_type": "execute_result"
    }
   ],
   "source": [
    "param_grid5 = {'C': np.logspace(-2, 2, 5)}\n",
    "grid5 = GridSearchCV(LinearSVC(), param_grid=param_grid5, cv=3)\n",
    "grid5.fit(X_gist_train, y_train)"
   ]
  },
  {
   "cell_type": "code",
   "execution_count": 121,
   "metadata": {
    "collapsed": false
   },
   "outputs": [
    {
     "name": "stdout",
     "output_type": "stream",
     "text": [
      "best parameters: {'C': 1.0}\n",
      "best mean cross-validation score: 0.732\n"
     ]
    }
   ],
   "source": [
    "print(\"best parameters: {}\".format(grid5.best_params_))\n",
    "print(\"best mean cross-validation score: {:.3f}\".format(grid5.best_score_))"
   ]
  },
  {
   "cell_type": "code",
   "execution_count": 122,
   "metadata": {
    "collapsed": false
   },
   "outputs": [
    {
     "name": "stdout",
     "output_type": "stream",
     "text": [
      "running time: 0.720\n",
      "test score: 0.759\n"
     ]
    }
   ],
   "source": [
    "tick = time()\n",
    "gistsvm = LinearSVC(C=1).fit(X_gist_train,y_train)\n",
    "print(\"running time: {:.3f}\".format(time() - tick))\n",
    "print(\"test score: {:.3f}\".format(gistsvm.score(X_gist_test, y_test)))"
   ]
  },
  {
   "cell_type": "code",
   "execution_count": 123,
   "metadata": {
    "collapsed": false
   },
   "outputs": [
    {
     "data": {
      "text/html": [
       "<div>\n",
       "<table border=\"1\" class=\"dataframe\">\n",
       "  <thead>\n",
       "    <tr style=\"text-align: right;\">\n",
       "      <th></th>\n",
       "      <th>mean_fit_time</th>\n",
       "      <th>mean_score_time</th>\n",
       "      <th>mean_test_score</th>\n",
       "      <th>mean_train_score</th>\n",
       "      <th>param_C</th>\n",
       "      <th>params</th>\n",
       "      <th>rank_test_score</th>\n",
       "      <th>split0_test_score</th>\n",
       "      <th>split0_train_score</th>\n",
       "      <th>split1_test_score</th>\n",
       "      <th>split1_train_score</th>\n",
       "      <th>split2_test_score</th>\n",
       "      <th>split2_train_score</th>\n",
       "      <th>std_fit_time</th>\n",
       "      <th>std_score_time</th>\n",
       "      <th>std_test_score</th>\n",
       "      <th>std_train_score</th>\n",
       "    </tr>\n",
       "  </thead>\n",
       "  <tbody>\n",
       "    <tr>\n",
       "      <th>0</th>\n",
       "      <td>0.079280</td>\n",
       "      <td>0.002019</td>\n",
       "      <td>0.657778</td>\n",
       "      <td>0.675333</td>\n",
       "      <td>0.01</td>\n",
       "      <td>{'C': 0.01}</td>\n",
       "      <td>5</td>\n",
       "      <td>0.662667</td>\n",
       "      <td>0.666000</td>\n",
       "      <td>0.646667</td>\n",
       "      <td>0.682</td>\n",
       "      <td>0.664000</td>\n",
       "      <td>0.678000</td>\n",
       "      <td>0.015581</td>\n",
       "      <td>0.000743</td>\n",
       "      <td>0.007876</td>\n",
       "      <td>0.006799</td>\n",
       "    </tr>\n",
       "    <tr>\n",
       "      <th>1</th>\n",
       "      <td>0.106808</td>\n",
       "      <td>0.001057</td>\n",
       "      <td>0.707556</td>\n",
       "      <td>0.738444</td>\n",
       "      <td>0.1</td>\n",
       "      <td>{'C': 0.1}</td>\n",
       "      <td>3</td>\n",
       "      <td>0.709333</td>\n",
       "      <td>0.740667</td>\n",
       "      <td>0.702667</td>\n",
       "      <td>0.740</td>\n",
       "      <td>0.710667</td>\n",
       "      <td>0.734667</td>\n",
       "      <td>0.010436</td>\n",
       "      <td>0.000022</td>\n",
       "      <td>0.003500</td>\n",
       "      <td>0.002685</td>\n",
       "    </tr>\n",
       "    <tr>\n",
       "      <th>2</th>\n",
       "      <td>0.385108</td>\n",
       "      <td>0.001448</td>\n",
       "      <td>0.731556</td>\n",
       "      <td>0.790222</td>\n",
       "      <td>1</td>\n",
       "      <td>{'C': 1.0}</td>\n",
       "      <td>1</td>\n",
       "      <td>0.717333</td>\n",
       "      <td>0.794667</td>\n",
       "      <td>0.728000</td>\n",
       "      <td>0.786</td>\n",
       "      <td>0.749333</td>\n",
       "      <td>0.790000</td>\n",
       "      <td>0.014935</td>\n",
       "      <td>0.000245</td>\n",
       "      <td>0.013304</td>\n",
       "      <td>0.003542</td>\n",
       "    </tr>\n",
       "    <tr>\n",
       "      <th>3</th>\n",
       "      <td>3.702139</td>\n",
       "      <td>0.001772</td>\n",
       "      <td>0.720444</td>\n",
       "      <td>0.845333</td>\n",
       "      <td>10</td>\n",
       "      <td>{'C': 10.0}</td>\n",
       "      <td>2</td>\n",
       "      <td>0.728000</td>\n",
       "      <td>0.850000</td>\n",
       "      <td>0.712000</td>\n",
       "      <td>0.842</td>\n",
       "      <td>0.721333</td>\n",
       "      <td>0.844000</td>\n",
       "      <td>0.270431</td>\n",
       "      <td>0.000472</td>\n",
       "      <td>0.006562</td>\n",
       "      <td>0.003399</td>\n",
       "    </tr>\n",
       "    <tr>\n",
       "      <th>4</th>\n",
       "      <td>4.122428</td>\n",
       "      <td>0.001365</td>\n",
       "      <td>0.696889</td>\n",
       "      <td>0.902000</td>\n",
       "      <td>100</td>\n",
       "      <td>{'C': 100.0}</td>\n",
       "      <td>4</td>\n",
       "      <td>0.689333</td>\n",
       "      <td>0.899333</td>\n",
       "      <td>0.696000</td>\n",
       "      <td>0.906</td>\n",
       "      <td>0.705333</td>\n",
       "      <td>0.900667</td>\n",
       "      <td>0.257018</td>\n",
       "      <td>0.000170</td>\n",
       "      <td>0.006562</td>\n",
       "      <td>0.002880</td>\n",
       "    </tr>\n",
       "  </tbody>\n",
       "</table>\n",
       "</div>"
      ],
      "text/plain": [
       "   mean_fit_time  mean_score_time  mean_test_score  mean_train_score param_C  \\\n",
       "0       0.079280         0.002019         0.657778          0.675333    0.01   \n",
       "1       0.106808         0.001057         0.707556          0.738444     0.1   \n",
       "2       0.385108         0.001448         0.731556          0.790222       1   \n",
       "3       3.702139         0.001772         0.720444          0.845333      10   \n",
       "4       4.122428         0.001365         0.696889          0.902000     100   \n",
       "\n",
       "         params  rank_test_score  split0_test_score  split0_train_score  \\\n",
       "0   {'C': 0.01}                5           0.662667            0.666000   \n",
       "1    {'C': 0.1}                3           0.709333            0.740667   \n",
       "2    {'C': 1.0}                1           0.717333            0.794667   \n",
       "3   {'C': 10.0}                2           0.728000            0.850000   \n",
       "4  {'C': 100.0}                4           0.689333            0.899333   \n",
       "\n",
       "   split1_test_score  split1_train_score  split2_test_score  \\\n",
       "0           0.646667               0.682           0.664000   \n",
       "1           0.702667               0.740           0.710667   \n",
       "2           0.728000               0.786           0.749333   \n",
       "3           0.712000               0.842           0.721333   \n",
       "4           0.696000               0.906           0.705333   \n",
       "\n",
       "   split2_train_score  std_fit_time  std_score_time  std_test_score  \\\n",
       "0            0.678000      0.015581        0.000743        0.007876   \n",
       "1            0.734667      0.010436        0.000022        0.003500   \n",
       "2            0.790000      0.014935        0.000245        0.013304   \n",
       "3            0.844000      0.270431        0.000472        0.006562   \n",
       "4            0.900667      0.257018        0.000170        0.006562   \n",
       "\n",
       "   std_train_score  \n",
       "0         0.006799  \n",
       "1         0.002685  \n",
       "2         0.003542  \n",
       "3         0.003399  \n",
       "4         0.002880  "
      ]
     },
     "execution_count": 123,
     "metadata": {},
     "output_type": "execute_result"
    }
   ],
   "source": [
    "res5 = pd.DataFrame(grid5.cv_results_)\n",
    "res5.head()"
   ]
  },
  {
   "cell_type": "code",
   "execution_count": 124,
   "metadata": {
    "collapsed": false
   },
   "outputs": [
    {
     "data": {
      "image/png": "[encoded data removed]",
      "text/plain": [
       "<matplotlib.figure.Figure at 0x1372d6240>"
      ]
     },
     "metadata": {},
     "output_type": "display_data"
    }
   ],
   "source": [
    "res5.plot('param_C', 'mean_train_score')\n",
    "res5.plot('param_C', 'mean_test_score', ax=plt.gca())\n",
    "plt.xscale('log')\n",
    "plt.legend()\n",
    "plt.show()"
   ]
  },
  {
   "cell_type": "markdown",
   "metadata": {},
   "source": [
    "# gist + non-linear svm (rbf)"
   ]
  },
  {
   "cell_type": "code",
   "execution_count": null,
   "metadata": {
    "collapsed": false
   },
   "outputs": [],
   "source": [
    "param_grid6 = {'C': np.logspace(-2, 2, 5),\n",
    "              'gamma': np.logspace(-2, 2, 5)}\n",
    "grid6 = GridSearchCV(SVC(), param_grid=param_grid6, cv=3)\n",
    "grid6.fit(X_gist_train, y_train)"
   ]
  },
  {
   "cell_type": "code",
   "execution_count": 125,
   "metadata": {
    "collapsed": false
   },
   "outputs": [
    {
     "name": "stdout",
     "output_type": "stream",
     "text": [
      "best parameters: {'gamma': 10.0, 'C': 10.0}\n",
      "best mean cross-validation score: 0.736\n"
     ]
    }
   ],
   "source": [
    "print(\"best parameters: {}\".format(grid6.best_params_))\n",
    "print(\"best mean cross-validation score: {:.3f}\".format(grid6.best_score_))"
   ]
  },
  {
   "cell_type": "code",
   "execution_count": 126,
   "metadata": {
    "collapsed": false
   },
   "outputs": [
    {
     "name": "stdout",
     "output_type": "stream",
     "text": [
      "running time: 4.021\n",
      "test score: 0.756\n"
     ]
    }
   ],
   "source": [
    "tick = time()\n",
    "gistsvmrbf = SVC(C=10, gamma=10).fit(X_gist_train,y_train)\n",
    "print(\"running time: {:.3f}\".format(time() - tick))\n",
    "print(\"test score: {:.3f}\".format(gistsvmrbf.score(X_gist_test, y_test)))"
   ]
  },
  {
   "cell_type": "code",
   "execution_count": 127,
   "metadata": {
    "collapsed": false
   },
   "outputs": [
    {
     "data": {
      "text/html": [
       "<div>\n",
       "<table border=\"1\" class=\"dataframe\">\n",
       "  <thead>\n",
       "    <tr style=\"text-align: right;\">\n",
       "      <th></th>\n",
       "      <th>mean_fit_time</th>\n",
       "      <th>mean_score_time</th>\n",
       "      <th>mean_test_score</th>\n",
       "      <th>mean_train_score</th>\n",
       "      <th>param_C</th>\n",
       "      <th>param_gamma</th>\n",
       "      <th>params</th>\n",
       "      <th>rank_test_score</th>\n",
       "      <th>split0_test_score</th>\n",
       "      <th>split0_train_score</th>\n",
       "      <th>split1_test_score</th>\n",
       "      <th>split1_train_score</th>\n",
       "      <th>split2_test_score</th>\n",
       "      <th>split2_train_score</th>\n",
       "      <th>std_fit_time</th>\n",
       "      <th>std_score_time</th>\n",
       "      <th>std_test_score</th>\n",
       "      <th>std_train_score</th>\n",
       "    </tr>\n",
       "  </thead>\n",
       "  <tbody>\n",
       "    <tr>\n",
       "      <th>0</th>\n",
       "      <td>1.860465</td>\n",
       "      <td>0.657681</td>\n",
       "      <td>0.605333</td>\n",
       "      <td>0.617778</td>\n",
       "      <td>0.01</td>\n",
       "      <td>0.01</td>\n",
       "      <td>{'gamma': 0.01, 'C': 0.01}</td>\n",
       "      <td>16</td>\n",
       "      <td>0.606667</td>\n",
       "      <td>0.608000</td>\n",
       "      <td>0.602667</td>\n",
       "      <td>0.622000</td>\n",
       "      <td>0.606667</td>\n",
       "      <td>0.623333</td>\n",
       "      <td>0.074917</td>\n",
       "      <td>0.024886</td>\n",
       "      <td>0.001886</td>\n",
       "      <td>0.006935</td>\n",
       "    </tr>\n",
       "    <tr>\n",
       "      <th>1</th>\n",
       "      <td>1.844031</td>\n",
       "      <td>0.613625</td>\n",
       "      <td>0.605333</td>\n",
       "      <td>0.617778</td>\n",
       "      <td>0.01</td>\n",
       "      <td>0.1</td>\n",
       "      <td>{'gamma': 0.1, 'C': 0.01}</td>\n",
       "      <td>16</td>\n",
       "      <td>0.602667</td>\n",
       "      <td>0.610000</td>\n",
       "      <td>0.605333</td>\n",
       "      <td>0.621333</td>\n",
       "      <td>0.608000</td>\n",
       "      <td>0.622000</td>\n",
       "      <td>0.058793</td>\n",
       "      <td>0.035245</td>\n",
       "      <td>0.002177</td>\n",
       "      <td>0.005506</td>\n",
       "    </tr>\n",
       "    <tr>\n",
       "      <th>2</th>\n",
       "      <td>1.806977</td>\n",
       "      <td>0.623865</td>\n",
       "      <td>0.603111</td>\n",
       "      <td>0.620667</td>\n",
       "      <td>0.01</td>\n",
       "      <td>1</td>\n",
       "      <td>{'gamma': 1.0, 'C': 0.01}</td>\n",
       "      <td>19</td>\n",
       "      <td>0.600000</td>\n",
       "      <td>0.614667</td>\n",
       "      <td>0.600000</td>\n",
       "      <td>0.623333</td>\n",
       "      <td>0.609333</td>\n",
       "      <td>0.624000</td>\n",
       "      <td>0.065307</td>\n",
       "      <td>0.009678</td>\n",
       "      <td>0.004400</td>\n",
       "      <td>0.004251</td>\n",
       "    </tr>\n",
       "    <tr>\n",
       "      <th>3</th>\n",
       "      <td>1.718978</td>\n",
       "      <td>0.616578</td>\n",
       "      <td>0.586667</td>\n",
       "      <td>0.700000</td>\n",
       "      <td>0.01</td>\n",
       "      <td>10</td>\n",
       "      <td>{'gamma': 10.0, 'C': 0.01}</td>\n",
       "      <td>20</td>\n",
       "      <td>0.610667</td>\n",
       "      <td>0.712667</td>\n",
       "      <td>0.561333</td>\n",
       "      <td>0.674667</td>\n",
       "      <td>0.588000</td>\n",
       "      <td>0.712667</td>\n",
       "      <td>0.063886</td>\n",
       "      <td>0.018930</td>\n",
       "      <td>0.020162</td>\n",
       "      <td>0.017913</td>\n",
       "    </tr>\n",
       "    <tr>\n",
       "      <th>4</th>\n",
       "      <td>1.824837</td>\n",
       "      <td>0.666626</td>\n",
       "      <td>0.338667</td>\n",
       "      <td>1.000000</td>\n",
       "      <td>0.01</td>\n",
       "      <td>100</td>\n",
       "      <td>{'gamma': 100.0, 'C': 0.01}</td>\n",
       "      <td>24</td>\n",
       "      <td>0.340000</td>\n",
       "      <td>1.000000</td>\n",
       "      <td>0.336000</td>\n",
       "      <td>1.000000</td>\n",
       "      <td>0.340000</td>\n",
       "      <td>1.000000</td>\n",
       "      <td>0.142421</td>\n",
       "      <td>0.069196</td>\n",
       "      <td>0.001886</td>\n",
       "      <td>0.000000</td>\n",
       "    </tr>\n",
       "  </tbody>\n",
       "</table>\n",
       "</div>"
      ],
      "text/plain": [
       "   mean_fit_time  mean_score_time  mean_test_score  mean_train_score param_C  \\\n",
       "0       1.860465         0.657681         0.605333          0.617778    0.01   \n",
       "1       1.844031         0.613625         0.605333          0.617778    0.01   \n",
       "2       1.806977         0.623865         0.603111          0.620667    0.01   \n",
       "3       1.718978         0.616578         0.586667          0.700000    0.01   \n",
       "4       1.824837         0.666626         0.338667          1.000000    0.01   \n",
       "\n",
       "  param_gamma                       params  rank_test_score  \\\n",
       "0        0.01   {'gamma': 0.01, 'C': 0.01}               16   \n",
       "1         0.1    {'gamma': 0.1, 'C': 0.01}               16   \n",
       "2           1    {'gamma': 1.0, 'C': 0.01}               19   \n",
       "3          10   {'gamma': 10.0, 'C': 0.01}               20   \n",
       "4         100  {'gamma': 100.0, 'C': 0.01}               24   \n",
       "\n",
       "   split0_test_score  split0_train_score  split1_test_score  \\\n",
       "0           0.606667            0.608000           0.602667   \n",
       "1           0.602667            0.610000           0.605333   \n",
       "2           0.600000            0.614667           0.600000   \n",
       "3           0.610667            0.712667           0.561333   \n",
       "4           0.340000            1.000000           0.336000   \n",
       "\n",
       "   split1_train_score  split2_test_score  split2_train_score  std_fit_time  \\\n",
       "0            0.622000           0.606667            0.623333      0.074917   \n",
       "1            0.621333           0.608000            0.622000      0.058793   \n",
       "2            0.623333           0.609333            0.624000      0.065307   \n",
       "3            0.674667           0.588000            0.712667      0.063886   \n",
       "4            1.000000           0.340000            1.000000      0.142421   \n",
       "\n",
       "   std_score_time  std_test_score  std_train_score  \n",
       "0        0.024886        0.001886         0.006935  \n",
       "1        0.035245        0.002177         0.005506  \n",
       "2        0.009678        0.004400         0.004251  \n",
       "3        0.018930        0.020162         0.017913  \n",
       "4        0.069196        0.001886         0.000000  "
      ]
     },
     "execution_count": 127,
     "metadata": {},
     "output_type": "execute_result"
    }
   ],
   "source": [
    "res6 = pd.DataFrame(grid6.cv_results_)\n",
    "res6.head()"
   ]
  },
  {
   "cell_type": "code",
   "execution_count": 130,
   "metadata": {
    "collapsed": false
   },
   "outputs": [
    {
     "data": {
      "image/png": "[encoded data removed]",
      "text/plain": [
       "<matplotlib.figure.Figure at 0x1371fc978>"
      ]
     },
     "metadata": {},
     "output_type": "display_data"
    }
   ],
   "source": [
    "plt.title(\"accuracy\")\n",
    "plt.imshow(res6.mean_test_score.values.reshape(5, 5), cmap=plt.cm.Blues)\n",
    "plt.yticks(range(len(param_grid6['C'])), param_grid6['C'])\n",
    "plt.ylabel(\"C\")\n",
    "plt.xticks(range(len(param_grid6['gamma'])), param_grid6['gamma'])\n",
    "plt.xlabel(\"gamma\")\n",
    "plt.colorbar()\n",
    "plt.show()"
   ]
  }
 ],
 "metadata": {
  "kernelspec": {
   "display_name": "Python 3",
   "language": "python",
   "name": "python3"
  },
  "language_info": {
   "codemirror_mode": {
    "name": "ipython",
    "version": 3
   },
   "file_extension": ".py",
   "mimetype": "text/x-python",
   "name": "python",
   "nbconvert_exporter": "python",
   "pygments_lexer": "ipython3",
   "version": "3.4.5"
  }
 },
 "nbformat": 4,
 "nbformat_minor": 2
}
