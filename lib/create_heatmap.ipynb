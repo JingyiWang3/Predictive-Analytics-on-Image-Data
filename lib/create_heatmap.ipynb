{
 "cells": [
  {
   "cell_type": "code",
   "execution_count": 3,
   "metadata": {},
   "outputs": [],
   "source": [
    "import pandas as pd\n",
    "import numpy as np\n",
    "import matplotlib.pyplot as plt\n",
    "from time import time\n",
    "\n",
    "from sklearn.model_selection import train_test_split\n",
    "from sklearn.model_selection import GridSearchCV\n",
    "from sklearn.svm import LinearSVC\n",
    "from sklearn.svm import SVC"
   ]
  },
  {
   "cell_type": "code",
   "execution_count": 12,
   "metadata": {},
   "outputs": [
    {
     "data": {
      "text/html": [
       "<div>\n",
       "<style scoped>\n",
       "    .dataframe tbody tr th:only-of-type {\n",
       "        vertical-align: middle;\n",
       "    }\n",
       "\n",
       "    .dataframe tbody tr th {\n",
       "        vertical-align: top;\n",
       "    }\n",
       "\n",
       "    .dataframe thead th {\n",
       "        text-align: right;\n",
       "    }\n",
       "</style>\n",
       "<table border=\"1\" class=\"dataframe\">\n",
       "  <thead>\n",
       "    <tr style=\"text-align: right;\">\n",
       "      <th></th>\n",
       "      <th>child_weight</th>\n",
       "      <th>depth</th>\n",
       "      <th>error</th>\n",
       "    </tr>\n",
       "  </thead>\n",
       "  <tbody>\n",
       "    <tr>\n",
       "      <th>0</th>\n",
       "      <td>1</td>\n",
       "      <td>3</td>\n",
       "      <td>0.103000</td>\n",
       "    </tr>\n",
       "    <tr>\n",
       "      <th>1</th>\n",
       "      <td>3</td>\n",
       "      <td>3</td>\n",
       "      <td>0.101333</td>\n",
       "    </tr>\n",
       "    <tr>\n",
       "      <th>2</th>\n",
       "      <td>5</td>\n",
       "      <td>3</td>\n",
       "      <td>0.103667</td>\n",
       "    </tr>\n",
       "    <tr>\n",
       "      <th>3</th>\n",
       "      <td>1</td>\n",
       "      <td>5</td>\n",
       "      <td>0.101667</td>\n",
       "    </tr>\n",
       "    <tr>\n",
       "      <th>4</th>\n",
       "      <td>3</td>\n",
       "      <td>5</td>\n",
       "      <td>0.101333</td>\n",
       "    </tr>\n",
       "  </tbody>\n",
       "</table>\n",
       "</div>"
      ],
      "text/plain": [
       "   child_weight  depth     error\n",
       "0             1      3  0.103000\n",
       "1             3      3  0.101333\n",
       "2             5      3  0.103667\n",
       "3             1      5  0.101667\n",
       "4             3      5  0.101333"
      ]
     },
     "execution_count": 12,
     "metadata": {},
     "output_type": "execute_result"
    }
   ],
   "source": [
    "grid2 = {'depth': np.array([3,3,3,5,5,5,7,7,7,9,9,9]),\n",
    "         'child_weight': np.array([1,3,5,1,3,5,1,3,5,1,3,5]),\n",
    "         'error': np.array([0.1030000, 0.1013333, 0.1036667,\n",
    "                            0.1016667, 0.1013333, 0.1033333,\n",
    "                            0.1170000, 0.1060000, 0.1073333,\n",
    "                            0.1140000, 0.1043333, 0.1033333])\n",
    "        }\n",
    "param_grid2 = {'depth': np.array([3,5,7,9]),\n",
    "         'child_weight': np.array([1,3,5])\n",
    "              }\n",
    "res2 = pd.DataFrame(grid2)\n",
    "res2.head()"
   ]
  },
  {
   "cell_type": "code",
   "execution_count": 15,
   "metadata": {},
   "outputs": [
    {
     "data": {
      "image/png": "[encoded data removed]",
      "text/plain": [
       "<Figure size 432x288 with 2 Axes>"
      ]
     },
     "metadata": {},
     "output_type": "display_data"
    }
   ],
   "source": [
    "plt.title(\"cv.error\")\n",
    "plt.imshow(res2.error.values.reshape(4, 3), cmap=plt.cm.Blues)\n",
    "plt.yticks(range(len(param_grid2['depth'])), param_grid2['depth'])\n",
    "plt.ylabel(\"depth\")\n",
    "plt.xticks(range(len(param_grid2['child_weight'])), param_grid2['child_weight'])\n",
    "plt.xlabel(\"child_weight\")\n",
    "plt.colorbar()\n",
    "plt.show()"
   ]
  },
  {
   "cell_type": "code",
   "execution_count": 16,
   "metadata": {},
   "outputs": [
    {
     "data": {
      "text/html": [
       "<div>\n",
       "<style scoped>\n",
       "    .dataframe tbody tr th:only-of-type {\n",
       "        vertical-align: middle;\n",
       "    }\n",
       "\n",
       "    .dataframe tbody tr th {\n",
       "        vertical-align: top;\n",
       "    }\n",
       "\n",
       "    .dataframe thead th {\n",
       "        text-align: right;\n",
       "    }\n",
       "</style>\n",
       "<table border=\"1\" class=\"dataframe\">\n",
       "  <thead>\n",
       "    <tr style=\"text-align: right;\">\n",
       "      <th></th>\n",
       "      <th>child_weight</th>\n",
       "      <th>depth</th>\n",
       "      <th>error</th>\n",
       "    </tr>\n",
       "  </thead>\n",
       "  <tbody>\n",
       "    <tr>\n",
       "      <th>0</th>\n",
       "      <td>1</td>\n",
       "      <td>3</td>\n",
       "      <td>0.088000</td>\n",
       "    </tr>\n",
       "    <tr>\n",
       "      <th>1</th>\n",
       "      <td>3</td>\n",
       "      <td>3</td>\n",
       "      <td>0.091333</td>\n",
       "    </tr>\n",
       "    <tr>\n",
       "      <th>2</th>\n",
       "      <td>5</td>\n",
       "      <td>3</td>\n",
       "      <td>0.083000</td>\n",
       "    </tr>\n",
       "    <tr>\n",
       "      <th>3</th>\n",
       "      <td>1</td>\n",
       "      <td>5</td>\n",
       "      <td>0.093000</td>\n",
       "    </tr>\n",
       "    <tr>\n",
       "      <th>4</th>\n",
       "      <td>3</td>\n",
       "      <td>5</td>\n",
       "      <td>0.094667</td>\n",
       "    </tr>\n",
       "  </tbody>\n",
       "</table>\n",
       "</div>"
      ],
      "text/plain": [
       "   child_weight  depth     error\n",
       "0             1      3  0.088000\n",
       "1             3      3  0.091333\n",
       "2             5      3  0.083000\n",
       "3             1      5  0.093000\n",
       "4             3      5  0.094667"
      ]
     },
     "execution_count": 16,
     "metadata": {},
     "output_type": "execute_result"
    }
   ],
   "source": [
    "grid2 = {'depth': np.array([3,3,3,5,5,5,7,7,7,9,9,9]),\n",
    "         'child_weight': np.array([1,3,5,1,3,5,1,3,5,1,3,5]),\n",
    "         'error': np.array([0.0880000, 0.09133333, 0.08300000,\n",
    "                            0.0930000, 0.09466667, 0.09400000,\n",
    "                            0.1023333, 0.09466667, 0.09966667,\n",
    "                            0.1053333, 0.10033333, 0.09533333])\n",
    "        }\n",
    "param_grid2 = {'depth': np.array([3,5,7,9]),\n",
    "         'child_weight': np.array([1,3,5])\n",
    "              }\n",
    "res2 = pd.DataFrame(grid2)\n",
    "res2.head()"
   ]
  },
  {
   "cell_type": "code",
   "execution_count": 17,
   "metadata": {
    "scrolled": true
   },
   "outputs": [
    {
     "data": {
      "image/png": "[encoded data removed]",
      "text/plain": [
       "<Figure size 432x288 with 2 Axes>"
      ]
     },
     "metadata": {},
     "output_type": "display_data"
    }
   ],
   "source": [
    "plt.title(\"cv.error\")\n",
    "plt.imshow(res2.error.values.reshape(4, 3), cmap=plt.cm.Blues)\n",
    "plt.yticks(range(len(param_grid2['depth'])), param_grid2['depth'])\n",
    "plt.ylabel(\"depth\")\n",
    "plt.xticks(range(len(param_grid2['child_weight'])), param_grid2['child_weight'])\n",
    "plt.xlabel(\"child_weight\")\n",
    "plt.colorbar()\n",
    "plt.show()"
   ]
  },
  {
   "cell_type": "code",
   "execution_count": 18,
   "metadata": {},
   "outputs": [
    {
     "data": {
      "text/html": [
       "<div>\n",
       "<style scoped>\n",
       "    .dataframe tbody tr th:only-of-type {\n",
       "        vertical-align: middle;\n",
       "    }\n",
       "\n",
       "    .dataframe tbody tr th {\n",
       "        vertical-align: top;\n",
       "    }\n",
       "\n",
       "    .dataframe thead th {\n",
       "        text-align: right;\n",
       "    }\n",
       "</style>\n",
       "<table border=\"1\" class=\"dataframe\">\n",
       "  <thead>\n",
       "    <tr style=\"text-align: right;\">\n",
       "      <th></th>\n",
       "      <th>child_weight</th>\n",
       "      <th>depth</th>\n",
       "      <th>error</th>\n",
       "    </tr>\n",
       "  </thead>\n",
       "  <tbody>\n",
       "    <tr>\n",
       "      <th>0</th>\n",
       "      <td>1</td>\n",
       "      <td>3</td>\n",
       "      <td>0.091667</td>\n",
       "    </tr>\n",
       "    <tr>\n",
       "      <th>1</th>\n",
       "      <td>3</td>\n",
       "      <td>3</td>\n",
       "      <td>0.093667</td>\n",
       "    </tr>\n",
       "    <tr>\n",
       "      <th>2</th>\n",
       "      <td>5</td>\n",
       "      <td>3</td>\n",
       "      <td>0.091000</td>\n",
       "    </tr>\n",
       "    <tr>\n",
       "      <th>3</th>\n",
       "      <td>1</td>\n",
       "      <td>5</td>\n",
       "      <td>0.098333</td>\n",
       "    </tr>\n",
       "    <tr>\n",
       "      <th>4</th>\n",
       "      <td>3</td>\n",
       "      <td>5</td>\n",
       "      <td>0.097000</td>\n",
       "    </tr>\n",
       "  </tbody>\n",
       "</table>\n",
       "</div>"
      ],
      "text/plain": [
       "   child_weight  depth     error\n",
       "0             1      3  0.091667\n",
       "1             3      3  0.093667\n",
       "2             5      3  0.091000\n",
       "3             1      5  0.098333\n",
       "4             3      5  0.097000"
      ]
     },
     "execution_count": 18,
     "metadata": {},
     "output_type": "execute_result"
    }
   ],
   "source": [
    "grid2 = {'depth': np.array([3,3,3,5,5,5,7,7,7,9,9,9]),\n",
    "         'child_weight': np.array([1,3,5,1,3,5,1,3,5,1,3,5]),\n",
    "         'error': np.array([0.09166667, 0.09366667, 0.09100000,\n",
    "                            0.09833333, 0.09700000, 0.09133333,\n",
    "                            0.10266667, 0.10333333, 0.10333333,\n",
    "                            0.10733333, 0.10100000, 0.09933333])\n",
    "        }\n",
    "param_grid2 = {'depth': np.array([3,5,7,9]),\n",
    "         'child_weight': np.array([1,3,5])\n",
    "              }\n",
    "res2 = pd.DataFrame(grid2)\n",
    "res2.head()"
   ]
  },
  {
   "cell_type": "code",
   "execution_count": 19,
   "metadata": {},
   "outputs": [
    {
     "data": {
      "image/png": "[encoded data removed]",
      "text/plain": [
       "<Figure size 432x288 with 2 Axes>"
      ]
     },
     "metadata": {},
     "output_type": "display_data"
    }
   ],
   "source": [
    "plt.title(\"cv.error\")\n",
    "plt.imshow(res2.error.values.reshape(4, 3), cmap=plt.cm.Blues)\n",
    "plt.yticks(range(len(param_grid2['depth'])), param_grid2['depth'])\n",
    "plt.ylabel(\"depth\")\n",
    "plt.xticks(range(len(param_grid2['child_weight'])), param_grid2['child_weight'])\n",
    "plt.xlabel(\"child_weight\")\n",
    "plt.colorbar()\n",
    "plt.show()"
   ]
  },
  {
   "cell_type": "code",
   "execution_count": null,
   "metadata": {},
   "outputs": [],
   "source": []
  }
 ],
 "metadata": {
  "kernelspec": {
   "display_name": "mypython",
   "language": "python",
   "name": "mypython"
  },
  "language_info": {
   "codemirror_mode": {
    "name": "ipython",
    "version": 2
   },
   "file_extension": ".py",
   "mimetype": "text/x-python",
   "name": "python",
   "nbconvert_exporter": "python",
   "pygments_lexer": "ipython2",
   "version": "2.7.14"
  }
 },
 "nbformat": 4,
 "nbformat_minor": 2
}
